{
 "cells": [
  {
   "cell_type": "markdown",
   "id": "9f26a498-c0a6-4f0a-8404-189e277b9e22",
   "metadata": {},
   "source": [
    "# **BMI Calculator**\n",
    "\n",
    "https://www.calculator.net/bmi-calculator.html"
   ]
  },
  {
   "cell_type": "code",
   "execution_count": 3,
   "id": "d16521da-fa6a-4f9a-8a5c-739c1f2311f1",
   "metadata": {},
   "outputs": [],
   "source": [
    "# BMI = (weight in pounds x 703) / (height in inches x height in inches) aka height squared"
   ]
  },
  {
   "cell_type": "code",
   "execution_count": 7,
   "id": "cb4d0dcc-970d-4e1b-9501-57e7af37403b",
   "metadata": {},
   "outputs": [],
   "source": [
    "# WHO Classifications Reference\n",
    "\n",
    "# BMI < 16: severe thinness\n",
    "# 16 <= BMI < 17: moderate thinness\n",
    "# 17 < BMI < 18.5: mild thinness\n",
    "# 18.5 <= BMI < 25: normal\n",
    "# 25 <= BMI < 30: overweight\n",
    "# 30 <= BMI < 35: obese class 1\n",
    "# 35 <= BMI < 40: obese class 2\n",
    "# BMI > 40: obese class 3"
   ]
  },
  {
   "cell_type": "code",
   "execution_count": 45,
   "id": "83bab2ce-affe-4f17-b97a-777637c9056e",
   "metadata": {},
   "outputs": [
    {
     "name": "stdin",
     "output_type": "stream",
     "text": [
      "Enter your name:  Bryce\n",
      "Enter your weight in pounds:  98\n",
      "Enter your height in inches:  67\n"
     ]
    },
    {
     "name": "stdout",
     "output_type": "stream",
     "text": [
      "Your BMI is:  15.347293383827132\n",
      "Bryce, you are severely thin. Please seek medical attention.\n"
     ]
    }
   ],
   "source": [
    "name = input(\"Enter your name: \")\n",
    "\n",
    "weight = int(input(\"Enter your weight in pounds: \"))\n",
    "\n",
    "height = int(input(\"Enter your height in inches: \"))\n",
    "\n",
    "BMI = (weight * 703) / (height ** 2)\n",
    "\n",
    "print(\"Your BMI is: \", BMI)\n",
    "\n",
    "if BMI > 0:\n",
    "    if (BMI < 16):\n",
    "        print(name + \", you are severely thin. Please seek medical attention.\")\n",
    "    elif (BMI >= 16 and BMI < 17):\n",
    "        print(name + \", you are moderately thin.\")\n",
    "    elif (BMI >= 17 and BMI < 18.5):\n",
    "        print(name + \", you are mildly thin.\")\n",
    "    elif (BMI >= 18.5 and BMI < 25):\n",
    "        print(name + \", you are at a normal weight.\")\n",
    "    elif (BMI >= 25 and BMI < 30):\n",
    "        print(name + \", you are overweight.\")\n",
    "    elif (BMI >= 30 and BMI < 35):\n",
    "        print(name + \", you are obese.\")\n",
    "    elif (BMI >= 35 and BMI < 40):\n",
    "        print(name + \", you are severely obese.\")\n",
    "    elif (BMI >= 40):\n",
    "        print(name + \", you are morbidly obese. Please seek medical attention.\")\n",
    "else:\n",
    "        print(\"Invalid inputs.\")"
   ]
  },
  {
   "cell_type": "code",
   "execution_count": null,
   "id": "363ff6f0-79e5-4179-8970-8aae66065aad",
   "metadata": {},
   "outputs": [],
   "source": []
  }
 ],
 "metadata": {
  "kernelspec": {
   "display_name": "Python 3 (ipykernel)",
   "language": "python",
   "name": "python3"
  },
  "language_info": {
   "codemirror_mode": {
    "name": "ipython",
    "version": 3
   },
   "file_extension": ".py",
   "mimetype": "text/x-python",
   "name": "python",
   "nbconvert_exporter": "python",
   "pygments_lexer": "ipython3",
   "version": "3.12.7"
  }
 },
 "nbformat": 4,
 "nbformat_minor": 5
}
