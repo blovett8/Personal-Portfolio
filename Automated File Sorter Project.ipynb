{
 "cells": [
  {
   "cell_type": "markdown",
   "id": "17a3253d-414b-4199-900a-8e0d5273d1c9",
   "metadata": {},
   "source": [
    "# **Automatic File Sorter in File Explorer**"
   ]
  },
  {
   "cell_type": "code",
   "execution_count": 76,
   "id": "77d61283-5264-41be-b3e7-c6a91be51c77",
   "metadata": {},
   "outputs": [],
   "source": [
    "import os, shutil"
   ]
  },
  {
   "cell_type": "code",
   "execution_count": 78,
   "id": "004ec333-9bf8-4c57-b0e0-eda5586177d0",
   "metadata": {},
   "outputs": [],
   "source": [
    "# Folder Path example\n",
    "\n",
    "path = r\"C:/Users/blove/OneDrive/Documents/Python Tutorials/\""
   ]
  },
  {
   "cell_type": "code",
   "execution_count": 80,
   "id": "37192777-b7b3-4132-9500-8d6c8d1d522c",
   "metadata": {},
   "outputs": [],
   "source": [
    "# This variable contains the list of separate files in said path\n",
    "\n",
    "file_name = os.listdir(path)"
   ]
  },
  {
   "cell_type": "code",
   "execution_count": 84,
   "id": "b1c60bd8-5410-4596-bdab-6fbe3bcd06de",
   "metadata": {},
   "outputs": [],
   "source": [
    "# Creates our folders for sorting\n",
    "\n",
    "folder_names = ['csv files', 'image files', 'text files']\n",
    "\n",
    "for loop in range(0,3):\n",
    "    if not os.path.exists(path + folder_names[loop]):\n",
    "        print(path + folder_names[loop])\n",
    "        os.makedirs(path + folder_names[loop])\n",
    "\n",
    "# Moves respective file types into their respective folders\n",
    "\n",
    "for file in file_name:\n",
    "    if \".csv\" in file and not os.path.exists(path + \"csv files/\" + file):\n",
    "        shutil.move(path + file, path + \"csv files/\" + file)\n",
    "    elif \".jpg\" in file and not os.path.exists(path + \"image files/\" + file):\n",
    "        shutil.move(path + file, path + \"image files/\" + file)\n",
    "    elif \".txt\" in file and not os.path.exists(path + \"text files/\" + file):\n",
    "        shutil.move(path + file, path + \"text files/\" + file)\n",
    "    elif \".png\" in file and not os.path.exists(path + \"image files/\" + file):\n",
    "        shutil.move(path + file, path + \"image files/\" + file)\n",
    "\n",
    "# Check that path to make sure it was properly sorted"
   ]
  },
  {
   "cell_type": "code",
   "execution_count": null,
   "id": "998879a5-8755-4726-b4ca-5da954879a64",
   "metadata": {},
   "outputs": [],
   "source": []
  }
 ],
 "metadata": {
  "kernelspec": {
   "display_name": "Python 3 (ipykernel)",
   "language": "python",
   "name": "python3"
  },
  "language_info": {
   "codemirror_mode": {
    "name": "ipython",
    "version": 3
   },
   "file_extension": ".py",
   "mimetype": "text/x-python",
   "name": "python",
   "nbconvert_exporter": "python",
   "pygments_lexer": "ipython3",
   "version": "3.12.7"
  }
 },
 "nbformat": 4,
 "nbformat_minor": 5
}
